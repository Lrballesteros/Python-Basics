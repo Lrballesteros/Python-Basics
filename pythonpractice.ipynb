{
 "cells": [
  {
   "cell_type": "markdown",
   "id": "650eee2e",
   "metadata": {},
   "source": [
    "# My Python Learnings\n",
    "\n",
    "**The following code is some of the basics of Python that I created for some practice**\n",
    "\n",
    "All the skills learned are from the \"Python for Data Science and Machine Learning Bootcamp\". I will be practicing the following:\n",
    "\n",
    "* Data types\n",
    "    * Numbers\n",
    "    * Strings\n",
    "    * Printing\n",
    "    * Lists\n",
    "    * Dictionaries\n",
    "    * Booleans\n",
    "    * Tuples \n",
    "    * Sets\n",
    "* Comparison Operators\n",
    "* if, elif, else Statements\n",
    "* for Loops\n",
    "* while Loops\n",
    "* range()\n",
    "* list comprehension\n",
    "* functions\n",
    "* map and filter\n",
    "* methods\n",
    "____"
   ]
  },
  {
   "cell_type": "markdown",
   "id": "6b3d895c",
   "metadata": {},
   "source": [
    "## Data Types\n",
    "\n",
    "### Numbers \n",
    "Here are some simple arithmetic examples"
   ]
  },
  {
   "cell_type": "code",
   "execution_count": 1,
   "id": "31f8f64b",
   "metadata": {},
   "outputs": [
    {
     "data": {
      "text/plain": [
       "10"
      ]
     },
     "execution_count": 1,
     "metadata": {},
     "output_type": "execute_result"
    }
   ],
   "source": [
    "5 + 5"
   ]
  },
  {
   "cell_type": "code",
   "execution_count": 2,
   "id": "fffb1084",
   "metadata": {},
   "outputs": [
    {
     "data": {
      "text/plain": [
       "20"
      ]
     },
     "execution_count": 2,
     "metadata": {},
     "output_type": "execute_result"
    }
   ],
   "source": [
    "2 * 10"
   ]
  },
  {
   "cell_type": "code",
   "execution_count": 3,
   "id": "4fcca3c2",
   "metadata": {},
   "outputs": [
    {
     "data": {
      "text/plain": [
       "0.2"
      ]
     },
     "execution_count": 3,
     "metadata": {},
     "output_type": "execute_result"
    }
   ],
   "source": [
    "1 / 5"
   ]
  },
  {
   "cell_type": "code",
   "execution_count": 4,
   "id": "c864bf2f",
   "metadata": {},
   "outputs": [
    {
     "data": {
      "text/plain": [
       "16"
      ]
     },
     "execution_count": 4,
     "metadata": {},
     "output_type": "execute_result"
    }
   ],
   "source": [
    "4 ** 2"
   ]
  },
  {
   "cell_type": "code",
   "execution_count": 5,
   "id": "2560fa71",
   "metadata": {},
   "outputs": [
    {
     "data": {
      "text/plain": [
       "0"
      ]
     },
     "execution_count": 5,
     "metadata": {},
     "output_type": "execute_result"
    }
   ],
   "source": [
    "# Here the percentage will show if the number is even\n",
    "10 % 2"
   ]
  },
  {
   "cell_type": "code",
   "execution_count": 6,
   "id": "39558263",
   "metadata": {},
   "outputs": [
    {
     "data": {
      "text/plain": [
       "1"
      ]
     },
     "execution_count": 6,
     "metadata": {},
     "output_type": "execute_result"
    }
   ],
   "source": [
    "# or if there is a remainder.\n",
    "4 % 3"
   ]
  },
  {
   "cell_type": "code",
   "execution_count": 7,
   "id": "a6e60e36",
   "metadata": {},
   "outputs": [
    {
     "data": {
      "text/plain": [
       "12"
      ]
     },
     "execution_count": 7,
     "metadata": {},
     "output_type": "execute_result"
    }
   ],
   "source": [
    "# Python will always perform order of operations\n",
    "5 + 3 * 2 + 1"
   ]
  },
  {
   "cell_type": "code",
   "execution_count": 8,
   "id": "08e30d60",
   "metadata": {},
   "outputs": [
    {
     "data": {
      "text/plain": [
       "24"
      ]
     },
     "execution_count": 8,
     "metadata": {},
     "output_type": "execute_result"
    }
   ],
   "source": [
    "# Unless paranthesis are used\n",
    "(5 + 3) * (2 + 1)"
   ]
  },
  {
   "cell_type": "markdown",
   "id": "5bd1cf3e",
   "metadata": {},
   "source": [
    "### Variable Assignment\n",
    "\n",
    "This is allows letters or strings to be equal to numbers, letters or strings"
   ]
  },
  {
   "cell_type": "code",
   "execution_count": 10,
   "id": "3d513d59",
   "metadata": {},
   "outputs": [],
   "source": [
    "a = 5\n",
    "b = 10"
   ]
  },
  {
   "cell_type": "code",
   "execution_count": 11,
   "id": "75a7973a",
   "metadata": {},
   "outputs": [],
   "source": [
    "c = a + b"
   ]
  },
  {
   "cell_type": "code",
   "execution_count": 12,
   "id": "7ca4a38d",
   "metadata": {},
   "outputs": [
    {
     "data": {
      "text/plain": [
       "15"
      ]
     },
     "execution_count": 12,
     "metadata": {},
     "output_type": "execute_result"
    }
   ],
   "source": [
    "c"
   ]
  },
  {
   "cell_type": "markdown",
   "id": "b0708350",
   "metadata": {},
   "source": [
    "### Strings"
   ]
  },
  {
   "cell_type": "code",
   "execution_count": 13,
   "id": "21862259",
   "metadata": {},
   "outputs": [
    {
     "data": {
      "text/plain": [
       "'Single quotes can be used for strings, strings are just words'"
      ]
     },
     "execution_count": 13,
     "metadata": {},
     "output_type": "execute_result"
    }
   ],
   "source": [
    "'Single quotes can be used for strings, strings are just words'"
   ]
  },
  {
   "cell_type": "code",
   "execution_count": 14,
   "id": "7f692b3b",
   "metadata": {},
   "outputs": [
    {
     "data": {
      "text/plain": [
       "'Double quotes can also be used'"
      ]
     },
     "execution_count": 14,
     "metadata": {},
     "output_type": "execute_result"
    }
   ],
   "source": [
    "\"Double quotes can also be used\""
   ]
  },
  {
   "cell_type": "code",
   "execution_count": 15,
   "id": "209b9c5b",
   "metadata": {},
   "outputs": [
    {
     "data": {
      "text/plain": [
       "\"Double quotes are used if you can't use single quotes\""
      ]
     },
     "execution_count": 15,
     "metadata": {},
     "output_type": "execute_result"
    }
   ],
   "source": [
    "\"Double quotes are used if you can't use single quotes\""
   ]
  },
  {
   "cell_type": "markdown",
   "id": "25e047cb",
   "metadata": {},
   "source": [
    "### Printing\n",
    "\n",
    "Used to simple generate or run a message with out the code used to perform it nor with quotes."
   ]
  },
  {
   "cell_type": "code",
   "execution_count": 16,
   "id": "914dbd7d",
   "metadata": {},
   "outputs": [],
   "source": [
    "a = 'alexxus'"
   ]
  },
  {
   "cell_type": "code",
   "execution_count": 17,
   "id": "894234bd",
   "metadata": {},
   "outputs": [
    {
     "data": {
      "text/plain": [
       "'alexxus'"
      ]
     },
     "execution_count": 17,
     "metadata": {},
     "output_type": "execute_result"
    }
   ],
   "source": [
    "a"
   ]
  },
  {
   "cell_type": "code",
   "execution_count": 18,
   "id": "f5e3736b",
   "metadata": {},
   "outputs": [
    {
     "name": "stdout",
     "output_type": "stream",
     "text": [
      "alexxus\n"
     ]
    }
   ],
   "source": [
    "print(a)"
   ]
  },
  {
   "cell_type": "code",
   "execution_count": 19,
   "id": "2427a938",
   "metadata": {},
   "outputs": [],
   "source": [
    "age = 25\n",
    "name = 'Louie'"
   ]
  },
  {
   "cell_type": "code",
   "execution_count": 24,
   "id": "dbb0919e",
   "metadata": {},
   "outputs": [
    {
     "name": "stdout",
     "output_type": "stream",
     "text": [
      "My name is Louie, and my age is 25\n"
     ]
    }
   ],
   "source": [
    "print('My name is {}, and my age is {}'.format(name,age))"
   ]
  },
  {
   "cell_type": "markdown",
   "id": "0551d126",
   "metadata": {},
   "source": [
    "### Lists\n",
    "Often used with brackets"
   ]
  },
  {
   "cell_type": "code",
   "execution_count": 25,
   "id": "bd9ac515",
   "metadata": {},
   "outputs": [
    {
     "data": {
      "text/plain": [
       "[2, 4, 6, 8]"
      ]
     },
     "execution_count": 25,
     "metadata": {},
     "output_type": "execute_result"
    }
   ],
   "source": [
    "[2,4,6,8]"
   ]
  },
  {
   "cell_type": "code",
   "execution_count": 26,
   "id": "06e68d93",
   "metadata": {},
   "outputs": [
    {
     "data": {
      "text/plain": [
       "['Lou', 25, ['Lex', 30]]"
      ]
     },
     "execution_count": 26,
     "metadata": {},
     "output_type": "execute_result"
    }
   ],
   "source": [
    "# Lists can also be placed inside lists\n",
    "['Lou',25,['Lex',30]]"
   ]
  },
  {
   "cell_type": "code",
   "execution_count": 27,
   "id": "03e9e9a6",
   "metadata": {},
   "outputs": [],
   "source": [
    "list = ['l','o','v']"
   ]
  },
  {
   "cell_type": "code",
   "execution_count": 28,
   "id": "108580c1",
   "metadata": {},
   "outputs": [
    {
     "data": {
      "text/plain": [
       "['l', 'o', 'v']"
      ]
     },
     "execution_count": 28,
     "metadata": {},
     "output_type": "execute_result"
    }
   ],
   "source": [
    "list"
   ]
  },
  {
   "cell_type": "code",
   "execution_count": 29,
   "id": "62b6d9ae",
   "metadata": {},
   "outputs": [],
   "source": [
    "list.append('e')\n",
    "# .append is used to add to the end of list"
   ]
  },
  {
   "cell_type": "code",
   "execution_count": 30,
   "id": "94fb2ac7",
   "metadata": {},
   "outputs": [
    {
     "data": {
      "text/plain": [
       "['l', 'o', 'v', 'e']"
      ]
     },
     "execution_count": 30,
     "metadata": {},
     "output_type": "execute_result"
    }
   ],
   "source": [
    "list"
   ]
  },
  {
   "cell_type": "code",
   "execution_count": 31,
   "id": "c0764030",
   "metadata": {},
   "outputs": [
    {
     "data": {
      "text/plain": [
       "'l'"
      ]
     },
     "execution_count": 31,
     "metadata": {},
     "output_type": "execute_result"
    }
   ],
   "source": [
    "list[0]"
   ]
  },
  {
   "cell_type": "code",
   "execution_count": 32,
   "id": "5bc71e9e",
   "metadata": {},
   "outputs": [
    {
     "data": {
      "text/plain": [
       "'o'"
      ]
     },
     "execution_count": 32,
     "metadata": {},
     "output_type": "execute_result"
    }
   ],
   "source": [
    "list[1]"
   ]
  },
  {
   "cell_type": "code",
   "execution_count": null,
   "id": "51088d01",
   "metadata": {},
   "outputs": [],
   "source": [
    "#brackets are added after the list variable to return the context\n",
    "#depending on which place the list is in."
   ]
  },
  {
   "cell_type": "code",
   "execution_count": 36,
   "id": "a70c7225",
   "metadata": {},
   "outputs": [
    {
     "data": {
      "text/plain": [
       "['o', 'v', 'e']"
      ]
     },
     "execution_count": 36,
     "metadata": {},
     "output_type": "execute_result"
    }
   ],
   "source": [
    "list[1:]\n",
    "# the colon after the letter will return the the list after \n",
    "# the place indicated."
   ]
  },
  {
   "cell_type": "code",
   "execution_count": 37,
   "id": "62cff5ea",
   "metadata": {},
   "outputs": [
    {
     "data": {
      "text/plain": [
       "['l', 'o', 'v', 'e']"
      ]
     },
     "execution_count": 37,
     "metadata": {},
     "output_type": "execute_result"
    }
   ],
   "source": [
    "list"
   ]
  },
  {
   "cell_type": "code",
   "execution_count": 42,
   "id": "ff25f6b9",
   "metadata": {},
   "outputs": [],
   "source": [
    "list[0] = 'L'\n",
    "# lists can be changed."
   ]
  },
  {
   "cell_type": "code",
   "execution_count": 43,
   "id": "087fa728",
   "metadata": {},
   "outputs": [
    {
     "data": {
      "text/plain": [
       "['L', 'o', 'v', 'e']"
      ]
     },
     "execution_count": 43,
     "metadata": {},
     "output_type": "execute_result"
    }
   ],
   "source": [
    "list"
   ]
  },
  {
   "cell_type": "code",
   "execution_count": 44,
   "id": "e88755a6",
   "metadata": {},
   "outputs": [],
   "source": [
    "nest = [1,2,3,[4,5,['Lex']]]"
   ]
  },
  {
   "cell_type": "code",
   "execution_count": 60,
   "id": "92dd0776",
   "metadata": {},
   "outputs": [
    {
     "name": "stdout",
     "output_type": "stream",
     "text": [
      "Lex\n"
     ]
    }
   ],
   "source": [
    "#pick 'Lex' without brackets\n",
    "print(nest[3][2][0])"
   ]
  },
  {
   "cell_type": "markdown",
   "id": "4eef096c",
   "metadata": {},
   "source": [
    "### Dictionaries\n",
    "\n",
    "Dictionaries will have a corresponding value that can be returned \n",
    "when the inital pair is called."
   ]
  },
  {
   "cell_type": "code",
   "execution_count": 64,
   "id": "0bc729dc",
   "metadata": {},
   "outputs": [],
   "source": [
    "a = {'word1':'meaning1','word2':'meaning2'}"
   ]
  },
  {
   "cell_type": "code",
   "execution_count": 65,
   "id": "41a9b827",
   "metadata": {},
   "outputs": [
    {
     "data": {
      "text/plain": [
       "{'word1': 'meaning1', 'word2': 'meaning2'}"
      ]
     },
     "execution_count": 65,
     "metadata": {},
     "output_type": "execute_result"
    }
   ],
   "source": [
    "a"
   ]
  },
  {
   "cell_type": "code",
   "execution_count": 66,
   "id": "38029ab7",
   "metadata": {},
   "outputs": [
    {
     "data": {
      "text/plain": [
       "'meaning1'"
      ]
     },
     "execution_count": 66,
     "metadata": {},
     "output_type": "execute_result"
    }
   ],
   "source": [
    "a['word1']"
   ]
  },
  {
   "cell_type": "markdown",
   "id": "52a91720",
   "metadata": {},
   "source": [
    "### Booleans\n",
    "\n",
    "These are simple True or False statements"
   ]
  },
  {
   "cell_type": "code",
   "execution_count": 82,
   "id": "0bddb267",
   "metadata": {},
   "outputs": [
    {
     "data": {
      "text/plain": [
       "True"
      ]
     },
     "execution_count": 82,
     "metadata": {},
     "output_type": "execute_result"
    }
   ],
   "source": [
    "True"
   ]
  },
  {
   "cell_type": "code",
   "execution_count": 71,
   "id": "675b2c32",
   "metadata": {},
   "outputs": [
    {
     "data": {
      "text/plain": [
       "False"
      ]
     },
     "execution_count": 71,
     "metadata": {},
     "output_type": "execute_result"
    }
   ],
   "source": [
    "False"
   ]
  },
  {
   "cell_type": "markdown",
   "id": "19633203",
   "metadata": {},
   "source": [
    "### Tuples\n",
    "These are similar to lists, but are immutable."
   ]
  },
  {
   "cell_type": "code",
   "execution_count": 72,
   "id": "10cfa397",
   "metadata": {},
   "outputs": [],
   "source": [
    "record = (714,744,779)"
   ]
  },
  {
   "cell_type": "code",
   "execution_count": 74,
   "id": "94bda6b5",
   "metadata": {},
   "outputs": [
    {
     "data": {
      "text/plain": [
       "714"
      ]
     },
     "execution_count": 74,
     "metadata": {},
     "output_type": "execute_result"
    }
   ],
   "source": [
    "record[0]"
   ]
  },
  {
   "cell_type": "code",
   "execution_count": 75,
   "id": "5589eeda",
   "metadata": {},
   "outputs": [
    {
     "ename": "TypeError",
     "evalue": "'tuple' object does not support item assignment",
     "output_type": "error",
     "traceback": [
      "\u001b[0;31m---------------------------------------------------------------------------\u001b[0m",
      "\u001b[0;31mTypeError\u001b[0m                                 Traceback (most recent call last)",
      "Input \u001b[0;32mIn [75]\u001b[0m, in \u001b[0;36m<cell line: 1>\u001b[0;34m()\u001b[0m\n\u001b[0;32m----> 1\u001b[0m record[\u001b[38;5;241m0\u001b[39m] \u001b[38;5;241m=\u001b[39m \u001b[38;5;241m1\u001b[39m\n",
      "\u001b[0;31mTypeError\u001b[0m: 'tuple' object does not support item assignment"
     ]
    }
   ],
   "source": [
    "record[0] = 1"
   ]
  },
  {
   "cell_type": "markdown",
   "id": "563fab40",
   "metadata": {},
   "source": [
    "### Sets\n",
    "Are similar to lists, but will limit each entry to one if there are duplicates."
   ]
  },
  {
   "cell_type": "code",
   "execution_count": 76,
   "id": "2d1728ad",
   "metadata": {},
   "outputs": [
    {
     "data": {
      "text/plain": [
       "{1, 2, 3}"
      ]
     },
     "execution_count": 76,
     "metadata": {},
     "output_type": "execute_result"
    }
   ],
   "source": [
    "{1,2,3}"
   ]
  },
  {
   "cell_type": "code",
   "execution_count": 77,
   "id": "cb817a25",
   "metadata": {},
   "outputs": [
    {
     "data": {
      "text/plain": [
       "{1, 2, 4, 5, 6, 7}"
      ]
     },
     "execution_count": 77,
     "metadata": {},
     "output_type": "execute_result"
    }
   ],
   "source": [
    "{1,1,1,1,2,2,2,2,4,4,4,4,5,5,6,6,6,7,7}"
   ]
  },
  {
   "cell_type": "markdown",
   "id": "3509795b",
   "metadata": {},
   "source": [
    "### Comparison Operators"
   ]
  },
  {
   "cell_type": "code",
   "execution_count": 83,
   "id": "5c2ac3b3",
   "metadata": {},
   "outputs": [
    {
     "data": {
      "text/plain": [
       "False"
      ]
     },
     "execution_count": 83,
     "metadata": {},
     "output_type": "execute_result"
    }
   ],
   "source": [
    "1 > 2"
   ]
  },
  {
   "cell_type": "code",
   "execution_count": 84,
   "id": "844b66c0",
   "metadata": {},
   "outputs": [
    {
     "data": {
      "text/plain": [
       "True"
      ]
     },
     "execution_count": 84,
     "metadata": {},
     "output_type": "execute_result"
    }
   ],
   "source": [
    "1 < 3"
   ]
  },
  {
   "cell_type": "code",
   "execution_count": 86,
   "id": "ea46c7ab",
   "metadata": {},
   "outputs": [
    {
     "data": {
      "text/plain": [
       "True"
      ]
     },
     "execution_count": 86,
     "metadata": {},
     "output_type": "execute_result"
    }
   ],
   "source": [
    "1 <= 2"
   ]
  },
  {
   "cell_type": "code",
   "execution_count": 87,
   "id": "9c12df89",
   "metadata": {},
   "outputs": [
    {
     "data": {
      "text/plain": [
       "False"
      ]
     },
     "execution_count": 87,
     "metadata": {},
     "output_type": "execute_result"
    }
   ],
   "source": [
    "1 >= 2"
   ]
  },
  {
   "cell_type": "code",
   "execution_count": 88,
   "id": "6c403651",
   "metadata": {},
   "outputs": [
    {
     "data": {
      "text/plain": [
       "True"
      ]
     },
     "execution_count": 88,
     "metadata": {},
     "output_type": "execute_result"
    }
   ],
   "source": [
    "1 == 1"
   ]
  },
  {
   "cell_type": "code",
   "execution_count": 89,
   "id": "e050c366",
   "metadata": {},
   "outputs": [
    {
     "data": {
      "text/plain": [
       "False"
      ]
     },
     "execution_count": 89,
     "metadata": {},
     "output_type": "execute_result"
    }
   ],
   "source": [
    "\"hello\" == 'Goodbye'"
   ]
  },
  {
   "cell_type": "code",
   "execution_count": 90,
   "id": "241c1d17",
   "metadata": {},
   "outputs": [
    {
     "data": {
      "text/plain": [
       "True"
      ]
     },
     "execution_count": 90,
     "metadata": {},
     "output_type": "execute_result"
    }
   ],
   "source": [
    "\"hello\" != 'Goodbye'"
   ]
  },
  {
   "cell_type": "markdown",
   "id": "b5d069e1",
   "metadata": {},
   "source": [
    "### Logic Operators"
   ]
  },
  {
   "cell_type": "code",
   "execution_count": 91,
   "id": "de25840d",
   "metadata": {},
   "outputs": [
    {
     "data": {
      "text/plain": [
       "False"
      ]
     },
     "execution_count": 91,
     "metadata": {},
     "output_type": "execute_result"
    }
   ],
   "source": [
    "(1 > 5) and (3 > 4)"
   ]
  },
  {
   "cell_type": "code",
   "execution_count": 92,
   "id": "15e417ac",
   "metadata": {},
   "outputs": [
    {
     "data": {
      "text/plain": [
       "True"
      ]
     },
     "execution_count": 92,
     "metadata": {},
     "output_type": "execute_result"
    }
   ],
   "source": [
    "(1 > 5) or (3 < 4)"
   ]
  },
  {
   "cell_type": "code",
   "execution_count": 93,
   "id": "661a1117",
   "metadata": {},
   "outputs": [
    {
     "data": {
      "text/plain": [
       "True"
      ]
     },
     "execution_count": 93,
     "metadata": {},
     "output_type": "execute_result"
    }
   ],
   "source": [
    "(2 == 2) or (3 == 4) or ( 5 == 5)"
   ]
  },
  {
   "cell_type": "markdown",
   "id": "0b75b3de",
   "metadata": {},
   "source": [
    "### If, Elif , Else Statements\n",
    "It will print what you need depending on what condition is met, or print something if no condition is met."
   ]
  },
  {
   "cell_type": "code",
   "execution_count": 95,
   "id": "4c8d79ac",
   "metadata": {},
   "outputs": [
    {
     "name": "stdout",
     "output_type": "stream",
     "text": [
      "Yes\n"
     ]
    }
   ],
   "source": [
    "if 5 > 2:\n",
    "    print('Yes')"
   ]
  },
  {
   "cell_type": "code",
   "execution_count": 97,
   "id": "465ccaff",
   "metadata": {},
   "outputs": [
    {
     "name": "stdout",
     "output_type": "stream",
     "text": [
      "Yeah\n"
     ]
    }
   ],
   "source": [
    "if 6 != 0:\n",
    "    print('Yeah')\n",
    "else:\n",
    "    print('No')\n",
    "    "
   ]
  },
  {
   "cell_type": "code",
   "execution_count": 100,
   "id": "845bc7e3",
   "metadata": {},
   "outputs": [
    {
     "name": "stdout",
     "output_type": "stream",
     "text": [
      "No\n"
     ]
    }
   ],
   "source": [
    "if 6 == 0:\n",
    "    print('Yeah')\n",
    "else:\n",
    "    print('No')\n",
    "    "
   ]
  },
  {
   "cell_type": "code",
   "execution_count": 104,
   "id": "c0ed96dd",
   "metadata": {},
   "outputs": [
    {
     "name": "stdout",
     "output_type": "stream",
     "text": [
      "Agree\n"
     ]
    }
   ],
   "source": [
    "if 5 > 2:\n",
    "    print('Agree')\n",
    "elif 5 < 2:\n",
    "    print('Disagree')\n",
    "else:\n",
    "    print('N/A')"
   ]
  },
  {
   "cell_type": "markdown",
   "id": "b4508e8d",
   "metadata": {},
   "source": [
    "### for loops"
   ]
  },
  {
   "cell_type": "code",
   "execution_count": 110,
   "id": "b70b3395",
   "metadata": {},
   "outputs": [],
   "source": [
    "dates = [1,2,3,4,5]"
   ]
  },
  {
   "cell_type": "code",
   "execution_count": 113,
   "id": "02a4bc70",
   "metadata": {},
   "outputs": [
    {
     "name": "stdout",
     "output_type": "stream",
     "text": [
      "dia\n",
      "dia\n",
      "dia\n",
      "dia\n",
      "dia\n"
     ]
    }
   ],
   "source": [
    "for day in dates:\n",
    "    print('dia')"
   ]
  },
  {
   "cell_type": "code",
   "execution_count": 114,
   "id": "293c3d21",
   "metadata": {},
   "outputs": [
    {
     "name": "stdout",
     "output_type": "stream",
     "text": [
      "2\n",
      "4\n",
      "6\n",
      "8\n",
      "10\n"
     ]
    }
   ],
   "source": [
    "for day in dates:\n",
    "    print(day + day)"
   ]
  },
  {
   "cell_type": "markdown",
   "id": "337f9fe8",
   "metadata": {},
   "source": [
    "### while Loops"
   ]
  },
  {
   "cell_type": "code",
   "execution_count": 3,
   "id": "72dfce7b",
   "metadata": {},
   "outputs": [
    {
     "name": "stdout",
     "output_type": "stream",
     "text": [
      "L is 15\n",
      "L is 16\n",
      "L is 17\n",
      "L is 18\n",
      "L is 19\n",
      "L is 20\n"
     ]
    }
   ],
   "source": [
    "L = 15\n",
    "while L < 21:\n",
    "    print('L is {}'.format(L))\n",
    "    L = L+1\n",
    "# this will loop forever so you can restart or interupt kernel.\n",
    "# add a condition so it will not loop forever."
   ]
  },
  {
   "cell_type": "markdown",
   "id": "1121d9f7",
   "metadata": {},
   "source": [
    "### Range"
   ]
  },
  {
   "cell_type": "code",
   "execution_count": 4,
   "id": "8ea2c6c4",
   "metadata": {},
   "outputs": [
    {
     "data": {
      "text/plain": [
       "range(0, 10)"
      ]
     },
     "execution_count": 4,
     "metadata": {},
     "output_type": "execute_result"
    }
   ],
   "source": [
    "range(10)"
   ]
  },
  {
   "cell_type": "code",
   "execution_count": 5,
   "id": "76b20740",
   "metadata": {},
   "outputs": [
    {
     "name": "stdout",
     "output_type": "stream",
     "text": [
      "0\n",
      "1\n",
      "2\n",
      "3\n",
      "4\n",
      "5\n",
      "6\n",
      "7\n",
      "8\n",
      "9\n"
     ]
    }
   ],
   "source": [
    "for l in range(10):\n",
    "    print(l)"
   ]
  },
  {
   "cell_type": "code",
   "execution_count": 6,
   "id": "a8e3a7ec",
   "metadata": {},
   "outputs": [
    {
     "data": {
      "text/plain": [
       "[0, 1, 2, 3, 4, 5, 6, 7]"
      ]
     },
     "execution_count": 6,
     "metadata": {},
     "output_type": "execute_result"
    }
   ],
   "source": [
    "list(range(8))"
   ]
  },
  {
   "cell_type": "markdown",
   "id": "0803e244",
   "metadata": {},
   "source": [
    "### List Comprehension"
   ]
  },
  {
   "cell_type": "code",
   "execution_count": 8,
   "id": "c1e0a14c",
   "metadata": {},
   "outputs": [],
   "source": [
    "x = [1,2,3,4,5]"
   ]
  },
  {
   "cell_type": "code",
   "execution_count": 9,
   "id": "2fa83438",
   "metadata": {},
   "outputs": [
    {
     "name": "stdout",
     "output_type": "stream",
     "text": [
      "[1, 4, 9, 16, 25]\n"
     ]
    }
   ],
   "source": [
    "out = []\n",
    "for item in x:\n",
    "    out.append(item**2)\n",
    "print(out)   "
   ]
  },
  {
   "cell_type": "code",
   "execution_count": 10,
   "id": "3c3fc237",
   "metadata": {},
   "outputs": [
    {
     "data": {
      "text/plain": [
       "[1, 4, 9, 16, 25]"
      ]
     },
     "execution_count": 10,
     "metadata": {},
     "output_type": "execute_result"
    }
   ],
   "source": [
    "# can also be written\n",
    "\n",
    "[item**2 for item in x]"
   ]
  },
  {
   "cell_type": "markdown",
   "id": "58767eb1",
   "metadata": {},
   "source": [
    "### Functions\n",
    "\n",
    "Allows you to not continuously rewrite code."
   ]
  },
  {
   "cell_type": "code",
   "execution_count": 12,
   "id": "d6dd8e3b",
   "metadata": {},
   "outputs": [],
   "source": [
    "def myfunc(parameters1):\n",
    "    print(parameters1)"
   ]
  },
  {
   "cell_type": "code",
   "execution_count": 13,
   "id": "a1fd3f57",
   "metadata": {},
   "outputs": [
    {
     "name": "stdout",
     "output_type": "stream",
     "text": [
      "hi\n"
     ]
    }
   ],
   "source": [
    "myfunc('hi')"
   ]
  },
  {
   "cell_type": "code",
   "execution_count": 17,
   "id": "88f2c63a",
   "metadata": {},
   "outputs": [],
   "source": [
    "def myfunc(name = 'Luis'):\n",
    "    print('Hello '+ name)"
   ]
  },
  {
   "cell_type": "code",
   "execution_count": 20,
   "id": "e40f083b",
   "metadata": {},
   "outputs": [
    {
     "name": "stdout",
     "output_type": "stream",
     "text": [
      "Hello Lex\n"
     ]
    }
   ],
   "source": [
    "myfunc('Lex')"
   ]
  },
  {
   "cell_type": "code",
   "execution_count": 26,
   "id": "d2989ad0",
   "metadata": {},
   "outputs": [],
   "source": [
    "def square(numb):\n",
    "    \"\"\"\n",
    "    THIS IS A DOCSTRING\n",
    "    CAN GO MULTIPLE LINES\n",
    "    THIS FUNCTION SQUARES A NUMBER\n",
    "    \"\"\"\n",
    "    return numb**2"
   ]
  },
  {
   "cell_type": "code",
   "execution_count": 24,
   "id": "94dc7e95",
   "metadata": {},
   "outputs": [],
   "source": [
    "output = square(2)"
   ]
  },
  {
   "cell_type": "code",
   "execution_count": 25,
   "id": "abcfc752",
   "metadata": {},
   "outputs": [
    {
     "data": {
      "text/plain": [
       "4"
      ]
     },
     "execution_count": 25,
     "metadata": {},
     "output_type": "execute_result"
    }
   ],
   "source": [
    "output"
   ]
  },
  {
   "cell_type": "code",
   "execution_count": 27,
   "id": "a89933d1",
   "metadata": {},
   "outputs": [],
   "source": [
    "def times2(var):\n",
    "    return var*2"
   ]
  },
  {
   "cell_type": "code",
   "execution_count": 28,
   "id": "44ca6922",
   "metadata": {},
   "outputs": [
    {
     "data": {
      "text/plain": [
       "10"
      ]
     },
     "execution_count": 28,
     "metadata": {},
     "output_type": "execute_result"
    }
   ],
   "source": [
    "times2(5)"
   ]
  },
  {
   "cell_type": "code",
   "execution_count": 29,
   "id": "b85ba033",
   "metadata": {},
   "outputs": [],
   "source": [
    "### Map"
   ]
  },
  {
   "cell_type": "code",
   "execution_count": 30,
   "id": "f580685d",
   "metadata": {},
   "outputs": [],
   "source": [
    "seq = [1,2,3,4,5]"
   ]
  },
  {
   "cell_type": "code",
   "execution_count": 32,
   "id": "73b34e7d",
   "metadata": {},
   "outputs": [
    {
     "data": {
      "text/plain": [
       "<map at 0x7fe730a9cc40>"
      ]
     },
     "execution_count": 32,
     "metadata": {},
     "output_type": "execute_result"
    }
   ],
   "source": [
    "map(times2,seq)"
   ]
  },
  {
   "cell_type": "code",
   "execution_count": 33,
   "id": "a40576cc",
   "metadata": {},
   "outputs": [
    {
     "data": {
      "text/plain": [
       "[2, 4, 6, 8, 10]"
      ]
     },
     "execution_count": 33,
     "metadata": {},
     "output_type": "execute_result"
    }
   ],
   "source": [
    "list(map(times2,seq))\n"
   ]
  },
  {
   "cell_type": "code",
   "execution_count": 34,
   "id": "a6773b15",
   "metadata": {},
   "outputs": [],
   "source": [
    "## lambda allows you to rewite code cleaner\n"
   ]
  },
  {
   "cell_type": "code",
   "execution_count": 36,
   "id": "0584790f",
   "metadata": {},
   "outputs": [
    {
     "data": {
      "text/plain": [
       "[2, 4]"
      ]
     },
     "execution_count": 36,
     "metadata": {},
     "output_type": "execute_result"
    }
   ],
   "source": [
    "list(filter(lambda num: num%2 == 0,seq))"
   ]
  },
  {
   "cell_type": "code",
   "execution_count": 37,
   "id": "65f556e5",
   "metadata": {},
   "outputs": [],
   "source": [
    "s = 'Hello my name is Luis'"
   ]
  },
  {
   "cell_type": "code",
   "execution_count": 38,
   "id": "e494ea05",
   "metadata": {},
   "outputs": [
    {
     "data": {
      "text/plain": [
       "'hello my name is luis'"
      ]
     },
     "execution_count": 38,
     "metadata": {},
     "output_type": "execute_result"
    }
   ],
   "source": [
    "s.lower()"
   ]
  },
  {
   "cell_type": "code",
   "execution_count": 39,
   "id": "b77f88e7",
   "metadata": {},
   "outputs": [
    {
     "data": {
      "text/plain": [
       "'HELLO MY NAME IS LUIS'"
      ]
     },
     "execution_count": 39,
     "metadata": {},
     "output_type": "execute_result"
    }
   ],
   "source": [
    "s.upper()"
   ]
  },
  {
   "cell_type": "code",
   "execution_count": 40,
   "id": "0a8a4926",
   "metadata": {},
   "outputs": [
    {
     "data": {
      "text/plain": [
       "['Hello', 'my', 'name', 'is', 'Luis']"
      ]
     },
     "execution_count": 40,
     "metadata": {},
     "output_type": "execute_result"
    }
   ],
   "source": [
    "s.split()"
   ]
  },
  {
   "cell_type": "code",
   "execution_count": 41,
   "id": "f414ac00",
   "metadata": {},
   "outputs": [],
   "source": [
    "tweet = 'Go Chicago White Sox #Baseball'"
   ]
  },
  {
   "cell_type": "code",
   "execution_count": 43,
   "id": "e14789a9",
   "metadata": {},
   "outputs": [
    {
     "data": {
      "text/plain": [
       "'Baseball'"
      ]
     },
     "execution_count": 43,
     "metadata": {},
     "output_type": "execute_result"
    }
   ],
   "source": [
    "tweet.split('#')[1]"
   ]
  },
  {
   "cell_type": "code",
   "execution_count": 45,
   "id": "4170b661",
   "metadata": {},
   "outputs": [],
   "source": [
    "d = {'k1':1,'k2':2,'k3':3}"
   ]
  },
  {
   "cell_type": "code",
   "execution_count": 47,
   "id": "c9baaa34",
   "metadata": {},
   "outputs": [
    {
     "data": {
      "text/plain": [
       "dict_keys(['k1', 'k2', 'k3'])"
      ]
     },
     "execution_count": 47,
     "metadata": {},
     "output_type": "execute_result"
    }
   ],
   "source": [
    "d.keys()"
   ]
  },
  {
   "cell_type": "code",
   "execution_count": 48,
   "id": "5502e257",
   "metadata": {},
   "outputs": [
    {
     "data": {
      "text/plain": [
       "dict_items([('k1', 1), ('k2', 2), ('k3', 3)])"
      ]
     },
     "execution_count": 48,
     "metadata": {},
     "output_type": "execute_result"
    }
   ],
   "source": [
    "d.items()"
   ]
  },
  {
   "cell_type": "code",
   "execution_count": 49,
   "id": "d850898f",
   "metadata": {},
   "outputs": [
    {
     "data": {
      "text/plain": [
       "dict_values([1, 2, 3])"
      ]
     },
     "execution_count": 49,
     "metadata": {},
     "output_type": "execute_result"
    }
   ],
   "source": [
    "d.values()"
   ]
  },
  {
   "cell_type": "code",
   "execution_count": 50,
   "id": "90f7ff9f",
   "metadata": {},
   "outputs": [],
   "source": [
    "# to check if something is in something"
   ]
  },
  {
   "cell_type": "code",
   "execution_count": 51,
   "id": "f10bead6",
   "metadata": {},
   "outputs": [
    {
     "data": {
      "text/plain": [
       "True"
      ]
     },
     "execution_count": 51,
     "metadata": {},
     "output_type": "execute_result"
    }
   ],
   "source": [
    "'x' in ['x','y','z']"
   ]
  },
  {
   "cell_type": "code",
   "execution_count": 52,
   "id": "1a304f11",
   "metadata": {},
   "outputs": [],
   "source": [
    "x = [(1,2),(3,4),(5,6)]"
   ]
  },
  {
   "cell_type": "code",
   "execution_count": 56,
   "id": "00ac69b0",
   "metadata": {},
   "outputs": [
    {
     "name": "stdout",
     "output_type": "stream",
     "text": [
      "(1, 2)\n",
      "(3, 4)\n",
      "(5, 6)\n"
     ]
    }
   ],
   "source": [
    "#these are examples of touple unpacking\n",
    "for item in x:\n",
    "    print(item)"
   ]
  },
  {
   "cell_type": "code",
   "execution_count": 54,
   "id": "a6db091b",
   "metadata": {},
   "outputs": [
    {
     "name": "stdout",
     "output_type": "stream",
     "text": [
      "1\n",
      "3\n",
      "5\n"
     ]
    }
   ],
   "source": [
    "for (a,b)in x:\n",
    "    print(a)"
   ]
  },
  {
   "cell_type": "code",
   "execution_count": null,
   "id": "5e047cbd",
   "metadata": {},
   "outputs": [],
   "source": []
  }
 ],
 "metadata": {
  "kernelspec": {
   "display_name": "Python 3 (ipykernel)",
   "language": "python",
   "name": "python3"
  },
  "language_info": {
   "codemirror_mode": {
    "name": "ipython",
    "version": 3
   },
   "file_extension": ".py",
   "mimetype": "text/x-python",
   "name": "python",
   "nbconvert_exporter": "python",
   "pygments_lexer": "ipython3",
   "version": "3.9.12"
  }
 },
 "nbformat": 4,
 "nbformat_minor": 5
}
